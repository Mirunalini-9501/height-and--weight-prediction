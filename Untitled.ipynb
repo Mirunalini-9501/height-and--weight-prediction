{
  "nbformat": 4,
  "nbformat_minor": 0,
  "metadata": {
    "colab": {
      "name": "Untitled",
      "provenance": [],
      "collapsed_sections": [],
      "authorship_tag": "ABX9TyPVz+SP1HUk47NkomXJ4K68",
      "include_colab_link": true
    },
    "kernelspec": {
      "name": "python3",
      "display_name": "Python 3"
    }
  },
  "cells": [
    {
      "cell_type": "markdown",
      "metadata": {
        "id": "view-in-github",
        "colab_type": "text"
      },
      "source": [
        "<a href=\"https://colab.research.google.com/github/Mirunalini-9501/height-and-weight-prediction/blob/main/Untitled.ipynb\" target=\"_parent\"><img src=\"https://colab.research.google.com/assets/colab-badge.svg\" alt=\"Open In Colab\"/></a>"
      ]
    },
    {
      "cell_type": "code",
      "metadata": {
        "id": "gIg6cwjADW2O"
      },
      "source": [
        "import pandas as pd\n",
        "import numpy as np\n",
        "from sklearn.linear_model import LinearRegression\n",
        "import matplotlib.pyplot as plt\n",
        "from sklearn.preprocessing import PolynomialFeatures"
      ],
      "execution_count": 48,
      "outputs": []
    },
    {
      "cell_type": "code",
      "metadata": {
        "id": "mopboEMhDgr4",
        "outputId": "4e2a06d8-af83-4d08-8b57-1fd1b09ae036",
        "colab": {
          "base_uri": "https://localhost:8080/"
        }
      },
      "source": [
        "#GETTING THE INPUTS \n",
        "hw = input(\"Enter height and weight in HH.H-WW.W :\")\n",
        "h = float(hw[0:4])\n",
        "w = float(hw[5:])\n",
        "          "
      ],
      "execution_count": 50,
      "outputs": [
        {
          "output_type": "stream",
          "text": [
            "Enter height and weight in HH.H-WW.W :69.8-165.347\n"
          ],
          "name": "stdout"
        }
      ]
    },
    {
      "cell_type": "code",
      "metadata": {
        "id": "yzGtptsoEwA7",
        "outputId": "56e272f2-f584-4471-f217-6b669b344857",
        "colab": {
          "base_uri": "https://localhost:8080/",
          "height": 424
        }
      },
      "source": [
        "data = pd.read_csv(\"/content/height-weight-prediction-dataset.csv\")\n",
        "data"
      ],
      "execution_count": 51,
      "outputs": [
        {
          "output_type": "execute_result",
          "data": {
            "text/html": [
              "<div>\n",
              "<style scoped>\n",
              "    .dataframe tbody tr th:only-of-type {\n",
              "        vertical-align: middle;\n",
              "    }\n",
              "\n",
              "    .dataframe tbody tr th {\n",
              "        vertical-align: top;\n",
              "    }\n",
              "\n",
              "    .dataframe thead th {\n",
              "        text-align: right;\n",
              "    }\n",
              "</style>\n",
              "<table border=\"1\" class=\"dataframe\">\n",
              "  <thead>\n",
              "    <tr style=\"text-align: right;\">\n",
              "      <th></th>\n",
              "      <th>Index</th>\n",
              "      <th>Height(Inches)</th>\n",
              "      <th>Weight(Pounds)</th>\n",
              "    </tr>\n",
              "  </thead>\n",
              "  <tbody>\n",
              "    <tr>\n",
              "      <th>0</th>\n",
              "      <td>1</td>\n",
              "      <td>65.78331</td>\n",
              "      <td>112.9925</td>\n",
              "    </tr>\n",
              "    <tr>\n",
              "      <th>1</th>\n",
              "      <td>2</td>\n",
              "      <td>71.51521</td>\n",
              "      <td>136.4873</td>\n",
              "    </tr>\n",
              "    <tr>\n",
              "      <th>2</th>\n",
              "      <td>3</td>\n",
              "      <td>69.39874</td>\n",
              "      <td>153.0269</td>\n",
              "    </tr>\n",
              "    <tr>\n",
              "      <th>3</th>\n",
              "      <td>4</td>\n",
              "      <td>68.21660</td>\n",
              "      <td>142.3354</td>\n",
              "    </tr>\n",
              "    <tr>\n",
              "      <th>4</th>\n",
              "      <td>5</td>\n",
              "      <td>67.78781</td>\n",
              "      <td>144.2971</td>\n",
              "    </tr>\n",
              "    <tr>\n",
              "      <th>...</th>\n",
              "      <td>...</td>\n",
              "      <td>...</td>\n",
              "      <td>...</td>\n",
              "    </tr>\n",
              "    <tr>\n",
              "      <th>95</th>\n",
              "      <td>96</td>\n",
              "      <td>70.55703</td>\n",
              "      <td>131.8001</td>\n",
              "    </tr>\n",
              "    <tr>\n",
              "      <th>96</th>\n",
              "      <td>97</td>\n",
              "      <td>66.28644</td>\n",
              "      <td>120.0285</td>\n",
              "    </tr>\n",
              "    <tr>\n",
              "      <th>97</th>\n",
              "      <td>98</td>\n",
              "      <td>63.42577</td>\n",
              "      <td>123.0972</td>\n",
              "    </tr>\n",
              "    <tr>\n",
              "      <th>98</th>\n",
              "      <td>99</td>\n",
              "      <td>66.76711</td>\n",
              "      <td>128.1432</td>\n",
              "    </tr>\n",
              "    <tr>\n",
              "      <th>99</th>\n",
              "      <td>100</td>\n",
              "      <td>68.88741</td>\n",
              "      <td>115.4759</td>\n",
              "    </tr>\n",
              "  </tbody>\n",
              "</table>\n",
              "<p>100 rows × 3 columns</p>\n",
              "</div>"
            ],
            "text/plain": [
              "    Index  Height(Inches)  Weight(Pounds)\n",
              "0       1        65.78331        112.9925\n",
              "1       2        71.51521        136.4873\n",
              "2       3        69.39874        153.0269\n",
              "3       4        68.21660        142.3354\n",
              "4       5        67.78781        144.2971\n",
              "..    ...             ...             ...\n",
              "95     96        70.55703        131.8001\n",
              "96     97        66.28644        120.0285\n",
              "97     98        63.42577        123.0972\n",
              "98     99        66.76711        128.1432\n",
              "99    100        68.88741        115.4759\n",
              "\n",
              "[100 rows x 3 columns]"
            ]
          },
          "metadata": {
            "tags": []
          },
          "execution_count": 51
        }
      ]
    },
    {
      "cell_type": "code",
      "metadata": {
        "id": "pKShM4uPE7WX",
        "outputId": "20611903-33ff-4050-e4c8-aecdb31e860d",
        "colab": {
          "base_uri": "https://localhost:8080/",
          "height": 424
        }
      },
      "source": [
        "data =data.drop(\"Index\",axis =1)\n",
        "data"
      ],
      "execution_count": 52,
      "outputs": [
        {
          "output_type": "execute_result",
          "data": {
            "text/html": [
              "<div>\n",
              "<style scoped>\n",
              "    .dataframe tbody tr th:only-of-type {\n",
              "        vertical-align: middle;\n",
              "    }\n",
              "\n",
              "    .dataframe tbody tr th {\n",
              "        vertical-align: top;\n",
              "    }\n",
              "\n",
              "    .dataframe thead th {\n",
              "        text-align: right;\n",
              "    }\n",
              "</style>\n",
              "<table border=\"1\" class=\"dataframe\">\n",
              "  <thead>\n",
              "    <tr style=\"text-align: right;\">\n",
              "      <th></th>\n",
              "      <th>Height(Inches)</th>\n",
              "      <th>Weight(Pounds)</th>\n",
              "    </tr>\n",
              "  </thead>\n",
              "  <tbody>\n",
              "    <tr>\n",
              "      <th>0</th>\n",
              "      <td>65.78331</td>\n",
              "      <td>112.9925</td>\n",
              "    </tr>\n",
              "    <tr>\n",
              "      <th>1</th>\n",
              "      <td>71.51521</td>\n",
              "      <td>136.4873</td>\n",
              "    </tr>\n",
              "    <tr>\n",
              "      <th>2</th>\n",
              "      <td>69.39874</td>\n",
              "      <td>153.0269</td>\n",
              "    </tr>\n",
              "    <tr>\n",
              "      <th>3</th>\n",
              "      <td>68.21660</td>\n",
              "      <td>142.3354</td>\n",
              "    </tr>\n",
              "    <tr>\n",
              "      <th>4</th>\n",
              "      <td>67.78781</td>\n",
              "      <td>144.2971</td>\n",
              "    </tr>\n",
              "    <tr>\n",
              "      <th>...</th>\n",
              "      <td>...</td>\n",
              "      <td>...</td>\n",
              "    </tr>\n",
              "    <tr>\n",
              "      <th>95</th>\n",
              "      <td>70.55703</td>\n",
              "      <td>131.8001</td>\n",
              "    </tr>\n",
              "    <tr>\n",
              "      <th>96</th>\n",
              "      <td>66.28644</td>\n",
              "      <td>120.0285</td>\n",
              "    </tr>\n",
              "    <tr>\n",
              "      <th>97</th>\n",
              "      <td>63.42577</td>\n",
              "      <td>123.0972</td>\n",
              "    </tr>\n",
              "    <tr>\n",
              "      <th>98</th>\n",
              "      <td>66.76711</td>\n",
              "      <td>128.1432</td>\n",
              "    </tr>\n",
              "    <tr>\n",
              "      <th>99</th>\n",
              "      <td>68.88741</td>\n",
              "      <td>115.4759</td>\n",
              "    </tr>\n",
              "  </tbody>\n",
              "</table>\n",
              "<p>100 rows × 2 columns</p>\n",
              "</div>"
            ],
            "text/plain": [
              "    Height(Inches)  Weight(Pounds)\n",
              "0         65.78331        112.9925\n",
              "1         71.51521        136.4873\n",
              "2         69.39874        153.0269\n",
              "3         68.21660        142.3354\n",
              "4         67.78781        144.2971\n",
              "..             ...             ...\n",
              "95        70.55703        131.8001\n",
              "96        66.28644        120.0285\n",
              "97        63.42577        123.0972\n",
              "98        66.76711        128.1432\n",
              "99        68.88741        115.4759\n",
              "\n",
              "[100 rows x 2 columns]"
            ]
          },
          "metadata": {
            "tags": []
          },
          "execution_count": 52
        }
      ]
    },
    {
      "cell_type": "code",
      "metadata": {
        "id": "1tgx7N9ISG1N",
        "outputId": "95b4fde1-41af-4cc2-9cde-80bc41157fb2",
        "colab": {
          "base_uri": "https://localhost:8080/"
        }
      },
      "source": [
        "x = data['Height(Inches)']\n",
        "x = x.values.reshape(len(x),1)\n",
        "x"
      ],
      "execution_count": 54,
      "outputs": [
        {
          "output_type": "execute_result",
          "data": {
            "text/plain": [
              "array([[65.78331],\n",
              "       [71.51521],\n",
              "       [69.39874],\n",
              "       [68.2166 ],\n",
              "       [67.78781],\n",
              "       [68.69784],\n",
              "       [69.80204],\n",
              "       [70.01472],\n",
              "       [67.90265],\n",
              "       [66.78236],\n",
              "       [66.48769],\n",
              "       [67.62333],\n",
              "       [68.30248],\n",
              "       [67.11656],\n",
              "       [68.27967],\n",
              "       [71.0916 ],\n",
              "       [66.461  ],\n",
              "       [68.64927],\n",
              "       [71.23033],\n",
              "       [67.13118],\n",
              "       [67.83379],\n",
              "       [68.87881],\n",
              "       [63.48115],\n",
              "       [68.42187],\n",
              "       [67.62804],\n",
              "       [67.20864],\n",
              "       [70.84235],\n",
              "       [67.49434],\n",
              "       [66.53401],\n",
              "       [65.44098],\n",
              "       [69.5233 ],\n",
              "       [65.8132 ],\n",
              "       [67.8163 ],\n",
              "       [70.59505],\n",
              "       [71.80484],\n",
              "       [69.20613],\n",
              "       [66.80368],\n",
              "       [67.65893],\n",
              "       [67.80701],\n",
              "       [64.04535],\n",
              "       [68.57463],\n",
              "       [65.18357],\n",
              "       [69.65814],\n",
              "       [67.96731],\n",
              "       [65.98088],\n",
              "       [68.67249],\n",
              "       [66.88088],\n",
              "       [67.69868],\n",
              "       [69.82117],\n",
              "       [69.08817],\n",
              "       [69.91479],\n",
              "       [67.33182],\n",
              "       [70.26939],\n",
              "       [69.10344],\n",
              "       [65.38356],\n",
              "       [70.18447],\n",
              "       [70.40617],\n",
              "       [66.54376],\n",
              "       [66.36418],\n",
              "       [67.537  ],\n",
              "       [66.50418],\n",
              "       [68.99958],\n",
              "       [68.30355],\n",
              "       [67.01255],\n",
              "       [70.80592],\n",
              "       [68.21951],\n",
              "       [69.05914],\n",
              "       [67.73103],\n",
              "       [67.21568],\n",
              "       [67.36763],\n",
              "       [65.27033],\n",
              "       [70.84278],\n",
              "       [69.92442],\n",
              "       [64.28508],\n",
              "       [68.2452 ],\n",
              "       [66.35708],\n",
              "       [68.36275],\n",
              "       [65.4769 ],\n",
              "       [69.71947],\n",
              "       [67.72554],\n",
              "       [68.63941],\n",
              "       [66.78405],\n",
              "       [70.05147],\n",
              "       [66.27848],\n",
              "       [69.20198],\n",
              "       [69.13481],\n",
              "       [67.36436],\n",
              "       [70.09297],\n",
              "       [70.1766 ],\n",
              "       [68.22556],\n",
              "       [68.12932],\n",
              "       [70.24256],\n",
              "       [71.48752],\n",
              "       [69.20477],\n",
              "       [70.06306],\n",
              "       [70.55703],\n",
              "       [66.28644],\n",
              "       [63.42577],\n",
              "       [66.76711],\n",
              "       [68.88741]])"
            ]
          },
          "metadata": {
            "tags": []
          },
          "execution_count": 54
        }
      ]
    },
    {
      "cell_type": "code",
      "metadata": {
        "id": "SfOdGul6qhvQ",
        "outputId": "cd783d7b-c786-4172-82c3-92bb5c3aa176",
        "colab": {
          "base_uri": "https://localhost:8080/"
        }
      },
      "source": [
        "y = data['Weight(Pounds)']\n",
        "y = y.values.reshape(-1,1)\n",
        "y"
      ],
      "execution_count": 55,
      "outputs": [
        {
          "output_type": "execute_result",
          "data": {
            "text/plain": [
              "array([[112.9925 ],\n",
              "       [136.4873 ],\n",
              "       [153.0269 ],\n",
              "       [142.3354 ],\n",
              "       [144.2971 ],\n",
              "       [123.3024 ],\n",
              "       [141.4947 ],\n",
              "       [136.4623 ],\n",
              "       [112.3723 ],\n",
              "       [120.6672 ],\n",
              "       [127.4516 ],\n",
              "       [114.143  ],\n",
              "       [125.6107 ],\n",
              "       [122.4618 ],\n",
              "       [116.0866 ],\n",
              "       [139.9975 ],\n",
              "       [129.5023 ],\n",
              "       [142.9733 ],\n",
              "       [137.9025 ],\n",
              "       [124.0449 ],\n",
              "       [141.2807 ],\n",
              "       [143.5392 ],\n",
              "       [ 97.90191],\n",
              "       [129.5027 ],\n",
              "       [141.8501 ],\n",
              "       [129.7244 ],\n",
              "       [142.4235 ],\n",
              "       [131.5502 ],\n",
              "       [108.3324 ],\n",
              "       [113.8922 ],\n",
              "       [103.3016 ],\n",
              "       [120.7536 ],\n",
              "       [125.7886 ],\n",
              "       [136.2225 ],\n",
              "       [140.1015 ],\n",
              "       [128.7487 ],\n",
              "       [141.7994 ],\n",
              "       [121.2319 ],\n",
              "       [131.3478 ],\n",
              "       [106.7115 ],\n",
              "       [124.3598 ],\n",
              "       [124.8591 ],\n",
              "       [139.6711 ],\n",
              "       [137.3696 ],\n",
              "       [106.4499 ],\n",
              "       [128.7639 ],\n",
              "       [145.6837 ],\n",
              "       [116.819  ],\n",
              "       [143.6215 ],\n",
              "       [134.9325 ],\n",
              "       [147.0219 ],\n",
              "       [126.3285 ],\n",
              "       [125.4839 ],\n",
              "       [115.7084 ],\n",
              "       [123.4892 ],\n",
              "       [147.8926 ],\n",
              "       [155.8987 ],\n",
              "       [128.0742 ],\n",
              "       [119.3701 ],\n",
              "       [133.8148 ],\n",
              "       [128.7325 ],\n",
              "       [137.5453 ],\n",
              "       [129.7604 ],\n",
              "       [128.824  ],\n",
              "       [135.3165 ],\n",
              "       [109.6113 ],\n",
              "       [142.4684 ],\n",
              "       [132.749  ],\n",
              "       [103.5275 ],\n",
              "       [124.7299 ],\n",
              "       [129.3137 ],\n",
              "       [134.0175 ],\n",
              "       [140.3969 ],\n",
              "       [102.8351 ],\n",
              "       [128.5214 ],\n",
              "       [120.2991 ],\n",
              "       [138.6036 ],\n",
              "       [132.9574 ],\n",
              "       [115.6233 ],\n",
              "       [122.524  ],\n",
              "       [134.6254 ],\n",
              "       [121.8986 ],\n",
              "       [155.3767 ],\n",
              "       [128.9418 ],\n",
              "       [129.1013 ],\n",
              "       [139.4733 ],\n",
              "       [140.8901 ],\n",
              "       [131.5916 ],\n",
              "       [121.1232 ],\n",
              "       [131.5127 ],\n",
              "       [136.5479 ],\n",
              "       [141.4896 ],\n",
              "       [140.6104 ],\n",
              "       [112.1413 ],\n",
              "       [133.457  ],\n",
              "       [131.8001 ],\n",
              "       [120.0285 ],\n",
              "       [123.0972 ],\n",
              "       [128.1432 ],\n",
              "       [115.4759 ]])"
            ]
          },
          "metadata": {
            "tags": []
          },
          "execution_count": 55
        }
      ]
    },
    {
      "cell_type": "code",
      "metadata": {
        "id": "T9CYsiZUqmbR",
        "outputId": "62b92d05-874c-40e5-ce16-5fb8551a3890",
        "colab": {
          "base_uri": "https://localhost:8080/"
        }
      },
      "source": [
        "model = LinearRegression().fit(x,y)\n",
        "r_sq = model.score(x, y)\n",
        "r_sq\n"
      ],
      "execution_count": 56,
      "outputs": [
        {
          "output_type": "execute_result",
          "data": {
            "text/plain": [
              "0.2807784872013175"
            ]
          },
          "metadata": {
            "tags": []
          },
          "execution_count": 56
        }
      ]
    },
    {
      "cell_type": "code",
      "metadata": {
        "id": "HmKU_GLbq8LX",
        "outputId": "73bda7f3-cef6-4b5e-ff76-0ef0b7f22b8d",
        "colab": {
          "base_uri": "https://localhost:8080/"
        }
      },
      "source": [
        "model.fit(x,y)\n",
        "print('intercept:', model.intercept_)\n",
        "print('slope:',model.coef_)"
      ],
      "execution_count": 57,
      "outputs": [
        {
          "output_type": "stream",
          "text": [
            "intercept: [-110.21167261]\n",
            "slope: [[3.51360548]]\n"
          ],
          "name": "stdout"
        }
      ]
    },
    {
      "cell_type": "code",
      "metadata": {
        "id": "Lpfmu8iNxZGN",
        "outputId": "3d89a4a6-8003-4f44-c26a-c76344c56fe1",
        "colab": {
          "base_uri": "https://localhost:8080/"
        }
      },
      "source": [
        "#y_pred = model.predict(x)\n",
        "y_pred = model.intercept_ + model.coef_ * x\n",
        "y_pred"
      ],
      "execution_count": 58,
      "outputs": [
        {
          "output_type": "execute_result",
          "data": {
            "text/plain": [
              "array([[120.92492573],\n",
              "       [141.06456097],\n",
              "       [133.62812038],\n",
              "       [129.4745468 ],\n",
              "       [127.96794791],\n",
              "       [131.1654343 ],\n",
              "       [135.04515747],\n",
              "       [135.79243109],\n",
              "       [128.37145036],\n",
              "       [124.43519328],\n",
              "       [123.39983916],\n",
              "       [127.39003008],\n",
              "       [129.77629524],\n",
              "       [125.60944023],\n",
              "       [129.6961499 ],\n",
              "       [139.57616255],\n",
              "       [123.30606103],\n",
              "       [130.99477849],\n",
              "       [140.06360504],\n",
              "       [125.66080915],\n",
              "       [128.12950349],\n",
              "       [131.80129149],\n",
              "       [112.83604375],\n",
              "       [130.1957846 ],\n",
              "       [127.40657916],\n",
              "       [125.93297303],\n",
              "       [138.70039639],\n",
              "       [126.93681011],\n",
              "       [123.56258936],\n",
              "       [119.72211317],\n",
              "       [134.06577508],\n",
              "       [121.0299474 ],\n",
              "       [128.06805053],\n",
              "       [137.83148175],\n",
              "       [142.08220652],\n",
              "       [132.95136483],\n",
              "       [124.51010335],\n",
              "       [127.51511444],\n",
              "       [128.03540914],\n",
              "       [114.81841996],\n",
              "       [130.73252297],\n",
              "       [118.81767598],\n",
              "       [134.53954964],\n",
              "       [128.59864009],\n",
              "       [121.61910877],\n",
              "       [131.07636441],\n",
              "       [124.7813537 ],\n",
              "       [127.65478026],\n",
              "       [135.11237275],\n",
              "       [132.53689993],\n",
              "       [135.44131649],\n",
              "       [126.36577895],\n",
              "       [136.68724099],\n",
              "       [132.59055269],\n",
              "       [119.52036194],\n",
              "       [136.38886561],\n",
              "       [137.16783195],\n",
              "       [123.59684702],\n",
              "       [122.96587375],\n",
              "       [127.08670052],\n",
              "       [123.45777851],\n",
              "       [132.22562962],\n",
              "       [129.7800548 ],\n",
              "       [125.24399013],\n",
              "       [138.57239574],\n",
              "       [129.4847714 ],\n",
              "       [132.43489996],\n",
              "       [127.76844539],\n",
              "       [125.95770881],\n",
              "       [126.49160116],\n",
              "       [119.12251639],\n",
              "       [138.70190724],\n",
              "       [135.47515251],\n",
              "       [115.6607366 ],\n",
              "       [129.57503592],\n",
              "       [122.94092715],\n",
              "       [129.98806024],\n",
              "       [119.84832188],\n",
              "       [134.75503907],\n",
              "       [127.7491557 ],\n",
              "       [130.96013434],\n",
              "       [124.44113128],\n",
              "       [135.92155609],\n",
              "       [122.66475776],\n",
              "       [132.93678337],\n",
              "       [132.70077449],\n",
              "       [126.48011167],\n",
              "       [136.06737071],\n",
              "       [136.36121354],\n",
              "       [129.50602871],\n",
              "       [129.16787932],\n",
              "       [136.59297096],\n",
              "       [140.96726923],\n",
              "       [132.94658633],\n",
              "       [135.96227877],\n",
              "       [137.69789447],\n",
              "       [122.69272606],\n",
              "       [112.64146027],\n",
              "       [124.3816108 ],\n",
              "       [131.83150849]])"
            ]
          },
          "metadata": {
            "tags": []
          },
          "execution_count": 58
        }
      ]
    },
    {
      "cell_type": "code",
      "metadata": {
        "id": "pCOALSPbzFNm",
        "outputId": "0bfde10d-834d-49e0-95ac-25ada9213ffe",
        "colab": {
          "base_uri": "https://localhost:8080/",
          "height": 295
        }
      },
      "source": [
        "plt.scatter(x,y,color = \"black\")\n",
        "plt.plot(x,model.predict(x),color=\"blue\")\n",
        "plt.title(\"Height-Weight Prediction\")\n",
        "plt.xlabel(\"Height(Inches)\")\n",
        "plt.ylabel(\"Weight(Pounds)\")\n",
        "plt.show()"
      ],
      "execution_count": 59,
      "outputs": [
        {
          "output_type": "display_data",
          "data": {
            "image/png": "[encoded data removed]",
            "text/plain": [
              "<Figure size 432x288 with 1 Axes>"
            ]
          },
          "metadata": {
            "tags": [],
            "needs_background": "light"
          }
        }
      ]
    }
  ]
}